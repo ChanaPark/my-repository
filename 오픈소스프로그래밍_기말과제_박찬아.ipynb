{
  "nbformat": 4,
  "nbformat_minor": 0,
  "metadata": {
    "colab": {
      "provenance": []
    },
    "kernelspec": {
      "name": "python3",
      "display_name": "Python 3"
    },
    "language_info": {
      "name": "python"
    }
  },
  "cells": [
    {
      "cell_type": "code",
      "execution_count": null,
      "metadata": {
        "id": "WKnNlGgTxf8f"
      },
      "outputs": [],
      "source": [
        "import google.generativeai as genai\n",
        "import streamlit as st\n",
        "import requests\n",
        "from bs4 import BeautifulSoup\n",
        "\n",
        "# API 설정\n",
        "YOUR_API_KEY = 'key'\n",
        "genai.configure(api_key=YOUR_API_KEY)\n",
        "\n",
        "st.title(\"상담\")\n",
        "\n",
        "@st.cache_resource\n",
        "def load_model():\n",
        "    \"\"\"\n",
        "    제미나이 모델을 로드합니다.\n",
        "    \"\"\"\n",
        "    model = genai.GenerativeModel(\n",
        "      model_name='gemini-1.5-chat',\n",
        "      temperature=0.5,\n",
        "      max_output_tokens=500)\n",
        "    print(\"모델이 로드되었습니다.\")\n",
        "    return model\n",
        "\n",
        "model = load_model()\n",
        "\n",
        "# 대화 세션 초기화\n",
        "if \"chat_session\" not in st.session_state:\n",
        "    st.session_state[\"chat_session\"] = genai.start_chat(\n",
        "        model=\"gemini-1.5-chat\",  # 모델 이름 지정\n",
        "        temperature=0.5,         # 응답의 창의성 제어\n",
        "        max_output_tokens=500,   # 응답의 최대 토큰 수\n",
        "        history=[\n",
        "            {\"role\": \"system\", \"content\": \"당신은 심리적으로 공감하고 현실적인 대책을 궁리해주는 상담사입니다. 사용자에게 도움을 주세요.\"}\n",
        "        ]\n",
        "    )\n",
        "# 대화 기록 표시\n",
        "for content in st.session_state.chat_session.history:\n",
        "    with st.chat_message(\"상담사\" if content['role'] == \"model\" else \"user\"):\n",
        "        st.markdown(content['content'])\n",
        "\n",
        "# 사용자 입력 처리\n",
        "if prompt := st.chat_input(\"메시지를 입력하세요.\"):\n",
        "    with st.chat_message(\"user\"):\n",
        "        st.markdown(prompt)\n",
        "    with st.chat_message(\"상담사\"):\n",
        "        response = st.session_state.chat_session.send_message(\n",
        "        message=prompt,\n",
        "        temperature=0.5,\n",
        "        max_output_tokens=500\n",
        "        )\n",
        "        st.markdown(response['content'])\n",
        "\n",
        "# 웹크롤링 함수\n",
        "@st.cache_resource\n",
        "def fetch_counseling_articles():\n",
        "    \"\"\"\n",
        "    국립 정신건강 센터에서 심리상담 관련 정보 크롤링\n",
        "    \"\"\"\n",
        "    url = [\"https://nct.go.kr/distMental/rating/rating02_2.do\",\n",
        "            \"https://www.mohw.go.kr/menu.es?mid=a10706040100\",\n",
        "            \"\"\n",
        "    response = requests.get(url)\n",
        "    soup = BeautifulSoup(response.text, 'html.parser')\n",
        "\n",
        "    print(\"심리적인 어려움을 혼자 해결하기 어렵다면 전문가와의 상담을 추천합니다.\")\n",
        "    print(\"국립정신건강센터 등 전문 기관에서 상담을 받아보세요.\")\n",
        "    print(\"더 자세한 정보는 다음 링크에서 확인할 수 있습니다:\", url)\n",
        "\n",
        "if __name__ == \"__main__\":\n",
        "    recommend_professional_counseling()"
      ]
    },
    {
      "cell_type": "code",
      "source": [],
      "metadata": {
        "id": "b7IOLw1nZCr6"
      },
      "execution_count": null,
      "outputs": []
    }
  ]
}